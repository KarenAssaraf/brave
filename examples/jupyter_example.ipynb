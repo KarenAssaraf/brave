{
 "cells": [
  {
   "cell_type": "code",
   "execution_count": 1,
   "metadata": {
    "collapsed": true
   },
   "outputs": [],
   "source": [
    "%load_ext autoreload\n",
    "%autoreload 2"
   ]
  },
  {
   "cell_type": "code",
   "execution_count": 2,
   "metadata": {
    "collapsed": true
   },
   "outputs": [],
   "source": [
    "from brave.brave import brave\n",
    "import os\n",
    "import logging\n",
    "\n",
    "logging.basicConfig(format='%(asctime)-15s %(clientip)s %(user)-8s %(message)s', level=logging.DEBUG)"
   ]
  },
  {
   "cell_type": "code",
   "execution_count": 3,
   "metadata": {
    "collapsed": true
   },
   "outputs": [],
   "source": [
    "coll_data = {\n",
    "    \"entity_types\": [\n",
    "        {\n",
    "            \"type\": \"Person\",\n",
    "            \"labels\": [ \"Person\", \"Per\" ],\n",
    "            \"bgColor\": \"#7fa2ff\",\n",
    "            \"borderColor\": \"darken\"\n",
    "        }\n",
    "    ],\n",
    "    \"entity_attribute_types\": [\n",
    "        {\n",
    "            \"type\": \"Notorious\",\n",
    "            \"values\": {\n",
    "                \"Notorious\": { \"glyph\": \"*\" }\n",
    "            },\n",
    "            \"bool\": \"Notorious\"\n",
    "        }\n",
    "    ],\n",
    "    \"relation_types\": [\n",
    "        {\n",
    "            \"type\": \"Anaphora\",\n",
    "            \"labels\": [ \"Anaphora\", \"Ana\" ],\n",
    "            \"dashArray\": \"3,3\",\n",
    "            \"color\": \"purple\",\n",
    "            \"args\": [\n",
    "                {\n",
    "                    \"role\": \"Anaphor\",\n",
    "                    \"targets\": [ \"Person\" ]\n",
    "                },\n",
    "                {\n",
    "                    \"role\": \"Entity\",\n",
    "                    \"targets\": [ \"Person\" ]\n",
    "                }\n",
    "            ]\n",
    "        }\n",
    "    ],\n",
    "    \"event_types\": [\n",
    "        {\n",
    "            \"type\": \"Assassination\",\n",
    "            \"labels\": [ \"Assassination\", \"Assas\" ],\n",
    "            \"bgColor\": \"lightgreen\",\n",
    "            \"borderColor\": \"darken\",\n",
    "            \"arcs\": [\n",
    "                {\n",
    "                    \"type\": \"Victim\",\n",
    "                    \"labels\": [ \"Victim\", \"Vict\" ]\n",
    "                },\n",
    "                {\n",
    "                    \"type\": \"Perpetrator\",\n",
    "                    \"labels\": [ \"Perpetrator\", \"Perp\" ],\n",
    "                    \"color\": \"green\"\n",
    "                }\n",
    "            ]\n",
    "        }\n",
    "    ]\n",
    "}\n",
    "\n",
    "doc_data = {\n",
    "    \"text\": \"Ed O'Kelley was the man who shot the man who shot Jesse James.\",\n",
    "    \"entities\": [\n",
    "        [\n",
    "            \"T1\",\n",
    "            \"Person\",\n",
    "            [ [ 0, 11 ] ]\n",
    "        ],\n",
    "        [\n",
    "            \"T2\",\n",
    "            \"Person\",\n",
    "            [ [ 20, 23 ] ]\n",
    "        ],\n",
    "        [\n",
    "            \"T3\",\n",
    "            \"Person\",\n",
    "            [ [ 37, 40 ] ]\n",
    "        ],\n",
    "        [\n",
    "            \"T4\",\n",
    "            \"Person\",\n",
    "            [ [ 50, 61 ] ]\n",
    "        ]\n",
    "    ],\n",
    "    \"attributes\": [ [ \"A1\", \"Notorious\", \"T4\" ] ],\n",
    "    \"relations\": [\n",
    "        [\n",
    "            \"R1\",\n",
    "            \"Anaphora\",\n",
    "            [ [ \"Anaphor\", \"T2\" ], [ \"Entity\", \"T1\" ] ]\n",
    "        ]\n",
    "    ],\n",
    "    \"triggers\": [\n",
    "        [\n",
    "            \"T5\",\n",
    "            \"Assassination\",\n",
    "            [ [ 45, 49 ] ]\n",
    "        ],\n",
    "        [\n",
    "            \"T6\",\n",
    "            \"Assassination\",\n",
    "            [ [ 28, 32 ] ]\n",
    "        ]\n",
    "    ],\n",
    "    \"events\": [\n",
    "        [\n",
    "            \"E1\",\n",
    "            \"T5\",\n",
    "            [ [ \"Perpetrator\", \"T3\" ], [ \"Victim\", \"T4\" ] ]\n",
    "        ],\n",
    "        [\n",
    "            \"E2\",\n",
    "            \"T6\",\n",
    "            [ [ \"Perpetrator\", \"T2\" ], [ \"Victim\", \"T3\" ] ]\n",
    "        ]\n",
    "    ]\n",
    "}\n",
    "\n",
    "cont = brave(coll_data, doc_data)\n"
   ]
  },
  {
   "cell_type": "code",
   "execution_count": 4,
   "metadata": {},
   "outputs": [
    {
     "data": {
      "text/html": [
       "\n",
       "        <iframe\n",
       "            width=\"800\"\n",
       "            height=\"600\"\n",
       "            src=\"temp_visual.html\"\n",
       "            frameborder=\"0\"\n",
       "            allowfullscreen\n",
       "        ></iframe>\n",
       "        "
      ],
      "text/plain": [
       "<IPython.lib.display.IFrame at 0x7fbb86f14050>"
      ]
     },
     "execution_count": 4,
     "metadata": {},
     "output_type": "execute_result"
    }
   ],
   "source": [
    "cont.to_jupyter()"
   ]
  },
  {
   "cell_type": "code",
   "execution_count": null,
   "metadata": {
    "collapsed": true
   },
   "outputs": [],
   "source": []
  }
 ],
 "metadata": {
  "kernelspec": {
   "display_name": "Python 2",
   "language": "python",
   "name": "python2"
  },
  "language_info": {
   "codemirror_mode": {
    "name": "ipython",
    "version": 2
   },
   "file_extension": ".py",
   "mimetype": "text/x-python",
   "name": "python",
   "nbconvert_exporter": "python",
   "pygments_lexer": "ipython2",
   "version": "2.7.13"
  }
 },
 "nbformat": 4,
 "nbformat_minor": 2
}
